{
 "cells": [
  {
   "cell_type": "markdown",
   "metadata": {},
   "source": [
    "# Homework 2: Integration at Work\n",
    "Physics 177, Spring 2017  (Prof. Tanedo)  \n",
    "**Due**: Tuesday, April 25\n",
    "\n",
    "Adam Christensen  \n",
    "\n",
    "<span style=\"color:red\">**Revised** (April 23): Fixed: problem numbering. *I've been informed that some students feel that this homework is too much work. I am reducing the homework from the original, please see the notes in red below.*</span>  \n",
    "\n",
    "<span style=\"color:blue\">\n",
    "The revisions are as follows:  \n",
    "**Problem 1.** You may write `integrate_HW` using the trapezoidal rule instead of Simpson's rule.  \n",
    "**Problem 2.** Only parts A and B are required.  \n",
    "**Problem 3.** Now completely optional.  \n",
    "**Problem 4.** Unchanged.\n",
    "</span>\n",
    "\n",
    "<span style=\"color:blue\">\n",
    "**Important**: For any of the optional problems that you choose to skip, you **must** explicitly explain why you were unable to complete the problem. For example, \"I tried to code up Simpson's rule but I could not figure out how to have the loop treat odd and even steps differently.\" If you just write, \"*It was too hard,*\" then you will lose points (and probably self-respect).\n",
    "</span>\n",
    "\n"
   ]
  },
  {
   "cell_type": "markdown",
   "metadata": {},
   "source": [
    "## 1. Simpson's Rule, Again\n",
    "\n",
    "<span style=\"color:red\">**Revised** (April 23): you may chose to do this using the trapezoidal rule. If you do, please explain why you were unable to code Simpson's rule.</span>\n",
    "\n",
    "Write another integrator function using **Simpson's rule**. You may adapt your code from Homework 1. The integrator should take the following arguments:\n",
    "* A function, $f$\n",
    "* Two real numbers giving the limits of integration, $a$ and $b$\n",
    "* The number of steps $N$ to sample\n",
    "\n",
    "This differs from Homework 1, where you specified the $\\Delta x$ rather than $N$. There are different ways of implementing Simpson's rule. Here's one example from (5.9) of Newman's *Computational Physics*:\n",
    "\n",
    "$\\displaystyle I(a,b) = \\frac{1}{3}\\Delta x\\left[ f(a) + f(b) + 4 \\sum_{k \\text{ odd}}^{N-1} f(a+k\\Delta x) + 2 \\sum_{k \\text{ even}}^{N-2} f(a+k\\Delta x) \\right]$ ,\n",
    "\n",
    "where the step size is $\\Delta x = (b-a)/N$.\n",
    "\n",
    "You can fill in the following function stub:"
   ]
  },
  {
   "cell_type": "code",
   "execution_count": 7,
   "metadata": {
    "collapsed": true
   },
   "outputs": [],
   "source": [
    "def integrate_HW2(f,a,b,N):\n",
    "    \"\"\"\n",
    "    Integrate f from a to b using Simpson's rule with N steps\n",
    "    \"\"\"\n",
    "    sample = (b-a)/N\n",
    "    total = 0.0\n",
    "    while(sample<1):\n",
    "        total = total + (f(sample - (b-a)/N) + 4*f(sample) + f(sample + (b-a)/N))*(b-a)/N/3.0\n",
    "        sample = sample + 2*(b-a)/N\n",
    "    return total"
   ]
  },
  {
   "cell_type": "markdown",
   "metadata": {},
   "source": [
    "Now test this on a nice function:"
   ]
  },
  {
   "cell_type": "code",
   "execution_count": 8,
   "metadata": {
    "collapsed": false
   },
   "outputs": [
    {
     "data": {
      "text/plain": [
       "1.0000000000000013"
      ]
     },
     "execution_count": 8,
     "metadata": {},
     "output_type": "execute_result"
    }
   ],
   "source": [
    "def test_function(x):\n",
    "    return 4.0*x**3\n",
    "\n",
    "integrate_HW2(test_function,0,1,100)"
   ]
  },
  {
   "cell_type": "markdown",
   "metadata": {
    "collapsed": true
   },
   "source": [
    "## 2. Diffraction Limit of a Telescope\n",
    "[Adapted from Exercise 5.4 from *Computational Physics* by Newman]\n",
    "\n",
    "### Discussion\n",
    "Our ability to resolve detail in astronomical observations is limited by the diffaction of light in our telescopes.  Light from stars can be treated effectively as coming from a point source at infinity. When such light, with wavelength $\\lambda$, passes through the circular aperture of a telescope (which we'll assume to have unit radius) and is focused by the telescope in the focal plane, it produces not a single dot, but a circular diffraction patter consisting of a central spot surrounded by a series of concentric rings. The intensity of the light in this diffraction pattern is given by\n",
    "\n",
    "$\\displaystyle I(r) = \\left(\\frac{J_1(kr)}{kr}\\right)^2 \\ ,$\n",
    "\n",
    "where $r$ is the distance in the focal plane from the center of the diffraction pattern, $k = 2\\pi/\\lambda$ and $J_1(x)$ is a Bessel function. The Bessel functions $J_m(x)$ are given by\n",
    "\n",
    "$\\displaystyle J_m(x) = \\frac{1}{\\pi}\\int_0^\\pi \\cos(m\\theta - x \\sin \\theta) \\, d\\theta\\ ,$ \n",
    "\n",
    "where $m$ is a nonnegative integer and $x\\geq 0$. "
   ]
  },
  {
   "cell_type": "markdown",
   "metadata": {},
   "source": [
    "### A. Coding the Bessel function"
   ]
  },
  {
   "cell_type": "markdown",
   "metadata": {},
   "source": [
    "Write a Python function that calculates the value of $J_m(x)$ using Simpson's rule with $N=1000$ points. "
   ]
  },
  {
   "cell_type": "code",
   "execution_count": 9,
   "metadata": {
    "collapsed": false
   },
   "outputs": [],
   "source": [
    "from math import pi as pi\n",
    "from math import sin as sin\n",
    "from math import cos as cos\n",
    "\n",
    "def J(m,x):\n",
    "    \"\"\"\n",
    "    mth Bessel function of the first kind evaluated at real number x,  \n",
    "    calculated using an integral representation with Simpson's rule and 1000 steps\n",
    "    \"\"\"\n",
    "    def Bessel(theta):\n",
    "        return cos(m*theta - x*sin(theta))\n",
    "            \n",
    "    \n",
    "    return (1/pi)*integrate_HW2(Bessel,0,pi,1000) "
   ]
  },
  {
   "cell_type": "code",
   "execution_count": 10,
   "metadata": {
    "collapsed": false
   },
   "outputs": [
    {
     "data": {
      "text/plain": [
       "0.3174201802086373"
      ]
     },
     "execution_count": 10,
     "metadata": {},
     "output_type": "execute_result"
    }
   ],
   "source": [
    "J(1,1)"
   ]
  },
  {
   "cell_type": "markdown",
   "metadata": {},
   "source": [
    "### B. Plotting these Bessel functions\n",
    "Plot the Bessel functions $J_0$, $J_1$, and $J_2$ from $x=0$ to $x=20$. \n",
    "\n",
    "Make sure that you have installed `matplotlib`. You can do this using `pip` at the command line: (`pip` vs `pip3` depends on your installation)  \n",
    "`pip3 install matplotlib`\n",
    "\n",
    "Note: if the plot doesn't show up in this notebook, you may need to run  \n",
    "`%matplotlib inline`\n",
    "in the notebook\n",
    "\n",
    "Follow the template at the bottom of https://github.com/Physics177-2017/Lec05-numpyintro/blob/master/Numpy%20Introduction.ipynb"
   ]
  },
  {
   "cell_type": "code",
   "execution_count": 11,
   "metadata": {
    "collapsed": true
   },
   "outputs": [],
   "source": [
    "import matplotlib.pyplot as plt\n",
    "import numpy as np\n",
    "\n",
    "# %matplotlib inline ## uncomment if necessary"
   ]
  },
  {
   "cell_type": "code",
   "execution_count": 14,
   "metadata": {
    "collapsed": false
   },
   "outputs": [
    {
     "data": {
      "image/png": "[encoded data removed]",
      "text/plain": [
       "<matplotlib.figure.Figure at 0x1b7d0f6b940>"
      ]
     },
     "metadata": {},
     "output_type": "display_data"
    }
   ],
   "source": [
    "# Create a Numpy array of sampling points\n",
    "x = np.linspace(0, 20, 100)\n",
    "\n",
    "# Create a \"vectorized\" version of J(m,x) that \n",
    "# accepts Numpy arrays as arguments\n",
    "Jnp = np.vectorize(J)\n",
    "\n",
    "plt.plot(x,\n",
    "         Jnp(0,x),\n",
    "         label='$J_0(x)$')\n",
    "\n",
    "plt.plot(x,\n",
    "         Jnp(1,x),\n",
    "         label='$J_1(x)$')\n",
    "\n",
    "plt.plot(x,\n",
    "         Jnp(2,x),\n",
    "         label='$J_2(x)$')\n",
    "\n",
    "\n",
    "plt.title(\"Bessel Functions\")\n",
    "plt.legend()\n",
    "plt.show()"
   ]
  },
  {
   "cell_type": "markdown",
   "metadata": {},
   "source": [
    "### C. Comparing to Sines\n",
    "\n",
    "<span style=\"color:red\">**Revised** (April 23): this problem is now optional. If you choose to skip it, explain why you were unable to code these functions and plot them in comparison to the integral expressions.</span>\n",
    "\n",
    "Over the same range as before, plot $J_0(x)$, $J_1(x)$ (as you did above) and the following functions:\n",
    "\n",
    "$\\displaystyle f_0(x) = \\sqrt{\\frac{2}{\\pi x}} \\cos\\left(\\pi - \\frac{\\pi}{4}\\right)$  \n",
    "$\\displaystyle f_1(x) = \\sqrt{\\frac{2}{\\pi x}} \\cos\\left(\\pi - \\frac{3\\pi}{4}\\right)$\n",
    "\n",
    "*Remark*: the more general formula is:  \n",
    "$\\displaystyle f_m(x) = \\sqrt{\\frac{2}{\\pi x}} \\cos\\left(\\pi - \\frac{(2m+1)\\pi}{4}\\right)$,  \n",
    "this is supposed to be a good approximation of $J_m(x)$ for large $x$."
   ]
  },
  {
   "cell_type": "markdown",
   "metadata": {
    "collapsed": true
   },
   "source": [
    "## Explaination for 2C,D and all of 3\n",
    "For part C, D, and Problem 3 (all the optional problems), I could not complete because I did not have time to figure out the code neccessary to complete."
   ]
  },
  {
   "cell_type": "markdown",
   "metadata": {},
   "source": [
    "### D. Plotting Diffraction Patterns\n",
    "\n",
    "<span style=\"color:red\">**Revised** (April 23): this problem is now optional. If you choose to skip it, explain why you were unable to plot the diffraction pattern following the template provided.</span>\n",
    "\n",
    "Use the equation for $I(r)$ above to plot the diffraction pattern seen, for example, by a telescope when viewing a point source at the origin. Your plot should look like an **Airy disk**:\n",
    "\n",
    "![title](https://upload.wikimedia.org/wikipedia/commons/1/14/Airy-pattern.svg)\n",
    "\n",
    "Image (and discussion) from:\n",
    "https://en.wikipedia.org/wiki/Airy_disk\n",
    "\n",
    "For our purposes, use $\\lambda = 500~\\text{nm}$. Your plot should cover values of $r$ from zero up to $1~\\mu\\text{m}$. Be careful with units! Numerical functions don't know how to handle units, so you should make sure you're consistent everywhere. I suggest using the Numpy functions **meshgrid** and **pcolormesh**, as demonstrated below.\n"
   ]
  },
  {
   "cell_type": "code",
   "execution_count": 20,
   "metadata": {
    "collapsed": false
   },
   "outputs": [
    {
     "data": {
      "image/png": "[encoded data removed]",
      "text/plain": [
       "<matplotlib.figure.Figure at 0x10e715d30>"
      ]
     },
     "metadata": {},
     "output_type": "display_data"
    }
   ],
   "source": [
    "side = np.linspace(-10,10,50)\n",
    "X,Y = np.meshgrid(side,side)\n",
    "Z = np.sin(X**2 + Y**2)\n",
    "plt.pcolormesh(X,Y,Z)\n",
    "plt.title(\"Silly Plot\")\n",
    "plt.show()"
   ]
  },
  {
   "cell_type": "markdown",
   "metadata": {},
   "source": [
    "Try to plot the Airy disk using a variation of the above code, where `Z` is given by $I(r)$, which you have to code in appropriately. "
   ]
  },
  {
   "cell_type": "code",
   "execution_count": null,
   "metadata": {
    "collapsed": true
   },
   "outputs": [],
   "source": [
    "# Your code here!"
   ]
  },
  {
   "cell_type": "markdown",
   "metadata": {},
   "source": [
    "You should find something that looks like a Gaussian, but without the diffraction patterns being immediately obvious. This is because the intensity near the center is so much brighter than the intensity of the Airy disks, so the disks are hard to see using the default plot parameters.  \n",
    "\n",
    "The `vmax` option tells you what the maximum contour value should be; anything above this value will be mapped to the same \"large value\" color."
   ]
  },
  {
   "cell_type": "code",
   "execution_count": 22,
   "metadata": {
    "collapsed": false
   },
   "outputs": [
    {
     "data": {
      "image/png": "[encoded data removed]",
      "text/plain": [
       "<matplotlib.figure.Figure at 0x10ea98940>"
      ]
     },
     "metadata": {},
     "output_type": "display_data"
    }
   ],
   "source": [
    "plt.pcolormesh(X,Y,Z, vmax=0.1)\n",
    "plt.title(\"Silly Plot\")\n",
    "plt.show()"
   ]
  },
  {
   "cell_type": "markdown",
   "metadata": {},
   "source": [
    "Play with `vmax` to try to resolve the Airy disks. I got mine to work for `vmax=0.01`.\n",
    "\n",
    "\n",
    "### X. Extra credit\n",
    "\n",
    "Refer to the `matplotlib` documentation (or any other resource) to play with the plot options. Change the aspect ratio so that the x- and y- spacings are equal... in other words: make circles look like circles, not ovals. Also play with the color schemes. Can you make a plot that looks like something an astronomer would see (white for areas where there are photons, black for areas where there are no photons). Can you put a plot legend that quantifies the intensity of the plot?"
   ]
  },
  {
   "cell_type": "markdown",
   "metadata": {},
   "source": [
    "## 3. Gaussian Quadrature\n",
    "\n",
    "<span style=\"color:red\">**Revised** (April 23): this entire problem is now optional. You still have to explain why you were unable to do it if you choose to skip it.</span>\n",
    "\n",
    "Download the implementation of **Gaussian Quadrature** from Mark Newman's *Computational Physics* website, or use the copy of `gaussxw.py` included in this GitHub repo. \n",
    "\n",
    "A sample program is provided below. Note how the package is called using  \n",
    "`from gaussxw import gaussxw`  \n",
    "... this assumes that `gaussxw.py` is in the same directory as this notebook.\n",
    "\n",
    "Here's how the package works:"
   ]
  },
  {
   "cell_type": "code",
   "execution_count": 37,
   "metadata": {
    "collapsed": false
   },
   "outputs": [
    {
     "name": "stdout",
     "output_type": "stream",
     "text": [
      "4.4\n"
     ]
    }
   ],
   "source": [
    "from gaussxw import gaussxw\n",
    "\n",
    "def f(x):\n",
    "    return x**4 - 2*x + 1\n",
    "\n",
    "N=3    # number of steps\n",
    "a=0.0  # lower limit of integration\n",
    "b=2.0  # upper limit of integration\n",
    "\n",
    "x,w = gaussxw(N)\n",
    "# gaussxw(N) returns the sample points x and weights w\n",
    "# for the reference integral (-1,1)\n",
    "\n",
    "# Now define x' and w' to be the sample points and weights\n",
    "# for the interval (a,b). We derived this transformation\n",
    "# in lecture 5.\n",
    "xp = 0.5*(b-a)*x + 0.5*(b+a)\n",
    "wp = 0.5*(b-a)*w\n",
    "\n",
    "# Now estimate the integral of f by summing\n",
    "# the sample points and the weights\n",
    "total = 0.0\n",
    "for k in range(N):\n",
    "    total += wp[k]*f(xp[k])\n",
    "    \n",
    "print(s)"
   ]
  },
  {
   "cell_type": "markdown",
   "metadata": {},
   "source": [
    "To better understand this, actually print the inputs and outputs"
   ]
  },
  {
   "cell_type": "code",
   "execution_count": 38,
   "metadata": {
    "collapsed": false
   },
   "outputs": [
    {
     "name": "stdout",
     "output_type": "stream",
     "text": [
      "[  7.74596669e-01  -8.96888137e-17  -7.74596669e-01]\n",
      "[ 0.55555556  0.88888889  0.55555556]\n"
     ]
    }
   ],
   "source": [
    "print(x)\n",
    "print(w)"
   ]
  },
  {
   "cell_type": "markdown",
   "metadata": {},
   "source": [
    "### A. Plotting the weights\n",
    "\n",
    "<span style=\"color:red\">**Revised** (April 23): if you choose to skip this problem, please explain why it was too difficult.</span>\n",
    "\n",
    "Create a histogram (or scatter plot) of the sample points and weights that come from the Gaussian quadrature procedure as encoded in `gaussxw`. You should have a plot whose y-axis is the weight, and whose x-axis is the sample position. \n",
    "\n",
    "Note: you will have to convert the Python arrays that `gaussxw` outputs into Numpy arrays. You can do this with `np.array(x)` where `x` is a Python array.\n",
    "\n",
    "Make separate plots for $N = 5, 110, 100$."
   ]
  },
  {
   "cell_type": "code",
   "execution_count": null,
   "metadata": {
    "collapsed": true
   },
   "outputs": [],
   "source": [
    "# Your code here!"
   ]
  },
  {
   "cell_type": "markdown",
   "metadata": {},
   "source": [
    "### B. Problems 1A and 1B using Gaussian Quadrature\n",
    "\n",
    "<span style=\"color:red\">**Revised** (April 23): if you choose to skip this problem, please explain why it was too difficult.</span>\n",
    "\n",
    "Redo the steps in Problem 1A and Problem 1B using **Gaussian quadrature** rather than Simpson's rule. Use `gaussxw` as shown above. \n",
    "\n",
    "<span style=\"color:red\">**Revised** (April 24): The text below is totally wrong! Don't sample the Bessel functions, sample the $\\cos(m \\theta - x\\sin \\theta)$ function from the discussion of Problem 2! My apologies.</span>\n",
    "\n",
    "\n",
    "~~In order to do this, you'll need a way a way to get $J_m(x)$ samples. I suggest using the built in \"Bessel function of the first kind\" function in `scipy`.~~\n",
    "\n",
    "~~You may need to install `scipy` using the following command at the terminal  \n",
    "`pip3 install scipy`~~"
   ]
  },
  {
   "cell_type": "code",
   "execution_count": 55,
   "metadata": {
    "collapsed": false
   },
   "outputs": [
    {
     "name": "stdout",
     "output_type": "stream",
     "text": [
      "0.440050585745\n"
     ]
    }
   ],
   "source": [
    "# THIS IS NOT USEFUL! Apologies. (4/24)\n",
    "from scipy.special import jv as jv  # jv is the J_m from above\n",
    "\n",
    "print(jv(1,1)) ## compare this with J(1,1) from Problem 1"
   ]
  },
  {
   "cell_type": "code",
   "execution_count": 1,
   "metadata": {
    "collapsed": true
   },
   "outputs": [],
   "source": [
    "# Your code here!\n",
    "# Code the Bessel functions as the integral representation from Problem 2\n",
    "# ... and focus on the range x in (0,20)\n",
    "# ... and use Gaussian quadrature to do the integration\n",
    "\n",
    "# Then plot your Bessel functions, confirm that they match what you got in Problem 1"
   ]
  },
  {
   "cell_type": "markdown",
   "metadata": {},
   "source": [
    "### X Extra Credit: small sampling\n",
    "\n",
    "Your Bessel function plots in Problem 1 and 2 should look the same. See what happens if we become \"cheap\" with our number of samplings. Plot the Bessel functions using Simpsons rule and using Gaussiand quadrature for low values of $N$. "
   ]
  },
  {
   "cell_type": "markdown",
   "metadata": {},
   "source": [
    "## 4. Simpson's Rule Error from HW1\n",
    "\n",
    "If you did things correctly in HW1, you will have noticed that your errors using Simpsons rule for a function of the form $f(x) = ax^2$ were strange: they were small and didn't scale as you'd expect. \n",
    "\n",
    "### A. Explain why\n",
    "\n",
    "In your own words, explain why this happened. What would you expect from a function of the form $f(x) = ax^3$?\n",
    "\n",
    "**Hint**: in class we argued that the approximation error using the trapezoidal rule was  \n",
    "$\\displaystyle \\epsilon = \\frac{1}{12} \\delta x^2 \\left[ f'(a) - f'(b) \\right]$.  \n",
    "\n",
    "\n",
    "### X. Extra credit\n",
    "\n",
    "Following Chapter 5.2 of Newman's *Computational Physics*, derive the factor of $1/12$ in the above expression for $\\epsilon$. (This derivation is also the lecture 5 notes.) Derive the analogous approximation error for Simpson's rule. It has the form:\n",
    "\n",
    "$\\displaystyle \\epsilon = \\frac{1}{?} \\Delta x^4 \\left[ \\cdots ? \\cdots \\right]$ ."
   ]
  },
  {
   "cell_type": "markdown",
   "metadata": {},
   "source": [
    "## Answer for 4A\n",
    "The rounding error comes from the taylor expansion, and the error is independent of the order of the polynomial."
   ]
  },
  {
   "cell_type": "markdown",
   "metadata": {
    "collapsed": true
   },
   "source": [
    "## X Extra Credit: animations\n",
    "\n",
    "Refer to: https://jakevdp.github.io/blog/2012/08/18/matplotlib-animation-tutorial/\n",
    "(Or any other matplotlib animation tutorial)\n",
    "\n",
    "Make an animated phase-shifted $J_0(x)$, analogous to the phase-shifted sine wave animation at the beginning of the above tutorial."
   ]
  },
  {
   "cell_type": "code",
   "execution_count": 1,
   "metadata": {
    "collapsed": true
   },
   "outputs": [],
   "source": [
    "# Your work here"
   ]
  }
 ],
 "metadata": {
  "kernelspec": {
   "display_name": "Python 3",
   "language": "python",
   "name": "python3"
  },
  "language_info": {
   "codemirror_mode": {
    "name": "ipython",
    "version": 3
   },
   "file_extension": ".py",
   "mimetype": "text/x-python",
   "name": "python",
   "nbconvert_exporter": "python",
   "pygments_lexer": "ipython3",
   "version": "3.6.0"
  }
 },
 "nbformat": 4,
 "nbformat_minor": 1
}
